{
  "nbformat": 4,
  "nbformat_minor": 0,
  "metadata": {
    "colab": {
      "provenance": [],
      "authorship_tag": "ABX9TyPH57B54yguBqccHHcPjllg",
      "include_colab_link": true
    },
    "kernelspec": {
      "name": "python3",
      "display_name": "Python 3"
    },
    "language_info": {
      "name": "python"
    }
  },
  "cells": [
    {
      "cell_type": "markdown",
      "metadata": {
        "id": "view-in-github",
        "colab_type": "text"
      },
      "source": [
        "<a href=\"https://colab.research.google.com/github/cayoc9/learning_python/blob/main/Pedra_Papel_Tesoura.ipynb\" target=\"_parent\"><img src=\"https://colab.research.google.com/assets/colab-badge.svg\" alt=\"Open In Colab\"/></a>"
      ]
    },
    {
      "cell_type": "code",
      "execution_count": null,
      "metadata": {
        "id": "Y1Thde2gcvF6"
      },
      "outputs": [],
      "source": [
        "#entrada do jogador 1\n",
        "print(\"Jogador 1: Pedra, Papel ou Tesoura\")\n",
        "Jogador_1 = input()\n",
        "if Jogador_1 != \"Pedra\" and Jogador_1 != \"Papel\" and Jogador_1 != \"Tesoura\":\n",
        "  print(\"opçao invalidada! Por favor, digite sua opção exatamente como esta na pergunta\")\n",
        "  print(\"Jogador 1: Pedra, Papel ou Tesoura\")\n",
        "  Jogador_1 = input()\n",
        "\n",
        "#entrada do jogador 1\n",
        "print(\"Jogador 2: Pedra, Papel ou Tesoura\")\n",
        "Jogador_2 = input()\n",
        "if Jogador_2 != \"Pedra\" and Jogador_2 != \"Papel\" and Jogador_2 != \"Tesoura\":\n",
        "  print(\"opçao invalidada! Por favor, digite sua opção exatamente como esta na pergunta\")\n",
        "  print(\"Jogador 2: Pedra, Papel ou Tesoura\")\n",
        "  Jogador_2 = input()\n",
        "\n",
        "print(f\"Jogador 1: '{Jogador_1}' e Jogador 2: '{Jogador_2}'\")\n",
        "\n",
        "# Pedra x Tesoura\n",
        "if Jogador_1 == \"Pedra\" and Jogador_2 == \"Tesoura\":\n",
        "  print (\"Pedra vence Tesoura, Vitoria do Jogador 1\")\n",
        "elif Jogador_1 == \"Tesoura\" and Jogador_2 == \"Pedra\":\n",
        "  print (\"Pedra vence Tesoura, Vitoria do Jogador 2\")\n",
        "\n",
        "# Pedra x Papel\n",
        "elif Jogador_1 == \"Papel\" and Jogador_2 == \"Pedra\":\n",
        "  print (\"Papel vence Pedra, Vitoria do Jogador 1\")\n",
        "elif Jogador_1 == \"Pedra\" and Jogador_2 == \"Papel\":\n",
        "  print (\"Papel vence Pedra, Vitoria do Jogador 2\")\n",
        "\n",
        "# Tesoura x Papel\n",
        "elif Jogador_1 == \"Tesoura\" and Jogador_2 == \"Papel\":\n",
        "  print (\"Tesoura vence Papel, Vitoria do Jogador 1\")\n",
        "elif Jogador_1 == \"Papel\" and Jogador_2 == \"Tesoura\":\n",
        "  print (\"Tesoura vence Papel, Vitoria do Jogador 2\")\n",
        "\n",
        "# Empate\n",
        "elif Jogador_1 == Jogador_2:\n",
        "  print(\"os dois fizeram a mesma jogada, empatou!\")"
      ]
    }
  ]
}